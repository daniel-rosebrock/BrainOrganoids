{
 "cells": [
  {
   "cell_type": "code",
   "execution_count": 2,
   "metadata": {},
   "outputs": [],
   "source": [
    "import matplotlib\n",
    "matplotlib.use('Agg')\n",
    "from matplotlib import gridspec\n",
    "matplotlib.rcParams['pdf.fonttype'] = 42\n",
    "matplotlib.rcParams['ps.fonttype'] = 42\n",
    "\n",
    "import matplotlib\n",
    "import matplotlib.font_manager as font_manager\n",
    "font_dirs = ['/mnt/e/Misc/Python_Fonts', ]\n",
    "font_files = font_manager.findSystemFonts(fontpaths=font_dirs)\n",
    "font_list = font_manager.createFontList(font_files)\n",
    "font_manager.fontManager.ttflist.extend(font_list)\n",
    "matplotlib.rcParams['font.family'] = 'tahoma'\n",
    "\n",
    "import pandas as pd\n",
    "import matplotlib.pyplot as plt\n",
    "import numpy as np\n",
    "import seaborn as sns\n",
    "from sklearn.preprocessing import StandardScaler\n",
    "from sklearn.decomposition import PCA\n",
    "%matplotlib inline\n",
    "from slmpy import ModularityOptimzer\n",
    "import sklearn.cluster as cluster\n",
    "import umap\n",
    "from matplotlib.colors import Normalize\n",
    "from matplotlib import cm\n",
    "import matplotlib.patches as patches\n",
    "import os\n",
    "import copy\n",
    "import scipy\n",
    "from sklearn.metrics.pairwise import cosine_similarity\n",
    "from matplotlib import gridspec"
   ]
  },
  {
   "cell_type": "code",
   "execution_count": 3,
   "metadata": {},
   "outputs": [],
   "source": [
    "tretulin_dat = pd.read_csv('/mnt/e/MPIMG/Elkabetz/data/public_data/GSE75140_hOrg.fetal.master.data.frame.txt',sep='\\t')"
   ]
  },
  {
   "cell_type": "code",
   "execution_count": 4,
   "metadata": {},
   "outputs": [],
   "source": [
    "cell_count = {}\n",
    "cell_names_per_samp = {}\n",
    "for cell in tretulin_dat['cell_id']:\n",
    "    samp_name = \"_\".join(cell.split(\"_\")[1:])\n",
    "    if samp_name not in cell_count: \n",
    "        cell_names_per_samp[samp_name] = []\n",
    "        cell_count[samp_name] = 0\n",
    "    cell_count[samp_name] += 1\n",
    "    cell_names_per_samp[samp_name].append(cell)"
   ]
  },
  {
   "cell_type": "code",
   "execution_count": 5,
   "metadata": {},
   "outputs": [],
   "source": [
    "samp_order = ['fetal_12wpc_c1','fetal_12wpc_c2','fetal_13wpc','hOrg33d_c1','hOrg33d_c2',\n",
    "              'hOrg35d','hOrg37d','hOrg41d','hOrg65d','hOrg_ESC_reg1_53d','hOrg_ESC_reg2_53d',\n",
    "              'hOrg_iPSC_reg3_58d','hOrg_iPSC_reg4_58d']"
   ]
  },
  {
   "cell_type": "code",
   "execution_count": 6,
   "metadata": {},
   "outputs": [
    {
     "data": {
      "text/plain": [
       "(array([ 0., 10., 20., 30., 40., 50., 60., 70., 80., 90.]),\n",
       " <a list of 10 Text yticklabel objects>)"
      ]
     },
     "execution_count": 6,
     "metadata": {},
     "output_type": "execute_result"
    },
    {
     "data": {
      "image/png": "[encoded data removed]",
      "text/plain": [
       "<Figure size 864x432 with 1 Axes>"
      ]
     },
     "metadata": {
      "needs_background": "light"
     },
     "output_type": "display_data"
    }
   ],
   "source": [
    "fig = plt.figure(figsize=(12,6))\n",
    "xticklabs = []\n",
    "for j,samp in enumerate(samp_order):\n",
    "    plt.bar(j,cell_count[samp],width=0.8,edgecolor='black')\n",
    "    xticklabs.append(samp)\n",
    "plt.xticks(range(j+1),xticklabs,rotation=90,fontsize=16)\n",
    "plt.ylabel('cell count',fontsize=20)\n",
    "plt.yticks(fontsize=20)"
   ]
  },
  {
   "cell_type": "code",
   "execution_count": 7,
   "metadata": {},
   "outputs": [],
   "source": [
    "fetal_df = tretulin_dat[tretulin_dat['cell_id'].str.contains('fetal')]\n",
    "fetal_df = fetal_df.drop(['species'],axis=1)\n",
    "fetal_df.index = fetal_df['cell_id']\n",
    "fetal_df.index.name = 'cell'\n",
    "fetal_df = fetal_df.drop(['cell_id'],axis=1)\n",
    "cells = fetal_df.index"
   ]
  },
  {
   "cell_type": "code",
   "execution_count": 8,
   "metadata": {
    "scrolled": true
   },
   "outputs": [
    {
     "name": "stdout",
     "output_type": "stream",
     "text": [
      "NTG1.csv\n",
      "NTG2.csv\n",
      "NTG3.csv\n",
      "NTG4.csv\n",
      "NTG5.csv\n",
      "NTG6.csv\n",
      "NTG7.csv\n",
      "NTG8.csv\n",
      "NTG9.csv\n",
      "SBNG1.csv\n",
      "SBNG10.csv\n",
      "SBNG11.csv\n",
      "SBNG2.csv\n",
      "SBNG3.csv\n",
      "SBNG4.csv\n",
      "SBNG5.csv\n",
      "SBNG6.csv\n",
      "SBNG7.csv\n",
      "SBNG8.csv\n",
      "SBNG9.csv\n",
      "SBNxG1.csv\n",
      "SBNxG10.csv\n",
      "SBNxG2.csv\n",
      "SBNxG3.csv\n",
      "SBNxG4.csv\n",
      "SBNxG5.csv\n",
      "SBNxG6.csv\n",
      "SBNxG7.csv\n",
      "SBNxG8.csv\n",
      "SBNxG9.csv\n",
      "XG1.csv\n",
      "XG2.csv\n",
      "XG3.csv\n",
      "XG4.csv\n",
      "XG5.csv\n",
      "XG6.csv\n",
      "XG7.csv\n",
      "XG8.csv\n",
      "XG9.csv\n"
     ]
    },
    {
     "name": "stderr",
     "output_type": "stream",
     "text": [
      "/home/rose/.local/lib/python3.6/site-packages/ipykernel_launcher.py:71: FutureWarning: Sorting because non-concatenation axis is not aligned. A future version\n",
      "of pandas will change to not sort by default.\n",
      "\n",
      "To accept the future behavior, pass 'sort=False'.\n",
      "\n",
      "To retain the current behavior and silence the warning, pass 'sort=True'.\n",
      "\n",
      "/home/rose/.local/lib/python3.6/site-packages/ipykernel_launcher.py:88: FutureWarning: Sorting because non-concatenation axis is not aligned. A future version\n",
      "of pandas will change to not sort by default.\n",
      "\n",
      "To accept the future behavior, pass 'sort=False'.\n",
      "\n",
      "To retain the current behavior and silence the warning, pass 'sort=True'.\n",
      "\n"
     ]
    }
   ],
   "source": [
    "## load in data\n",
    "\n",
    "sc_dat_dir = '/mnt/e/MPIMG/Rotation/elkabetz/scrna/Brain/counts_elk/'\n",
    "single_cell_data = {}\n",
    "for fn in os.listdir(sc_dat_dir):\n",
    "    print(fn)\n",
    "    df = pd.read_csv(sc_dat_dir+fn,sep=',')\n",
    "    df = df.set_index(df['Unnamed: 0'])\n",
    "    df = df.drop('Unnamed: 0',axis=1)\n",
    "    #mt_genes = [x for x in df.index if 'MT.' in x]\n",
    "    #df = df.drop(mt_genes,axis=0)\n",
    "    single_cell_data[fn.split(\".\")[0]] = df\n",
    "    \n",
    "single_cell_data_norm_rpm = {}\n",
    "single_cell_data_norm_rpm_logged = {}\n",
    "add_diff = 1.0\n",
    "for clust in single_cell_data:\n",
    "\n",
    "    sc_dat = single_cell_data[clust]\n",
    "    cols = sc_dat\n",
    "    sc_dat_backup = copy.deepcopy(sc_dat)\n",
    "    sc_dat = copy.deepcopy(sc_dat_backup)\n",
    "    \n",
    "    ## gives you RPM\n",
    "    sc_dat.loc[-1]  = sc_dat.sum()/10000.\n",
    "    sc_dat = sc_dat.div(sc_dat.loc[-1],axis=1)\n",
    "    sc_dat = sc_dat.drop([-1])\n",
    "    single_cell_data_norm_rpm[clust] = sc_dat\n",
    "    single_cell_data_norm_rpm_logged[clust] = np.log(sc_dat+1.)/np.log(2)\n",
    "    \n",
    "full_df_rpm_logged = {}\n",
    "full_df_counts = {}\n",
    "for clust in single_cell_data_norm_rpm_logged:\n",
    "    if 'SBNG' in clust:\n",
    "        if 'SBN' not in full_df_rpm_logged:\n",
    "            full_df_rpm_logged['SBN'] = copy.deepcopy(single_cell_data_norm_rpm_logged[clust])\n",
    "            full_df_counts['SBN'] = copy.deepcopy(single_cell_data[clust])\n",
    "        else:\n",
    "            full_df_rpm_logged['SBN'] = pd.concat([full_df_rpm_logged['SBN'],single_cell_data_norm_rpm_logged[clust]],axis=1)\n",
    "            full_df_counts['SBN'] = pd.concat([full_df_counts['SBN'],single_cell_data[clust]],axis=1)\n",
    "    if 'SBNx' in clust:\n",
    "        if 'SBNx' not in full_df_rpm_logged:\n",
    "            full_df_rpm_logged['SBNx'] = copy.deepcopy(single_cell_data_norm_rpm_logged[clust])\n",
    "            full_df_counts['SBNx'] = copy.deepcopy(single_cell_data[clust])\n",
    "        else:\n",
    "            full_df_rpm_logged['SBNx'] = pd.concat([full_df_rpm_logged['SBNx'],single_cell_data_norm_rpm_logged[clust]],axis=1)\n",
    "            full_df_counts['SBNx'] = pd.concat([full_df_counts['SBNx'],single_cell_data[clust]],axis=1)\n",
    "    if 'NT' in clust:\n",
    "        if 'NT' not in full_df_rpm_logged:\n",
    "            full_df_rpm_logged['NT'] = copy.deepcopy(single_cell_data_norm_rpm_logged[clust])\n",
    "            full_df_counts['NT'] = copy.deepcopy(single_cell_data[clust])\n",
    "        else:\n",
    "            full_df_rpm_logged['NT'] = pd.concat([full_df_rpm_logged['NT'],single_cell_data_norm_rpm_logged[clust]],axis=1)\n",
    "            full_df_counts['NT'] = pd.concat([full_df_counts['NT'],single_cell_data[clust]],axis=1)\n",
    "    if 'XG' in clust:\n",
    "        if 'X' not in full_df_rpm_logged:\n",
    "            full_df_rpm_logged['X'] = copy.deepcopy(single_cell_data_norm_rpm_logged[clust])\n",
    "            full_df_counts['X'] = copy.deepcopy(single_cell_data[clust])\n",
    "        else:\n",
    "            full_df_rpm_logged['X'] = pd.concat([full_df_rpm_logged['X'],single_cell_data_norm_rpm_logged[clust]],axis=1)\n",
    "            full_df_counts['X'] = pd.concat([full_df_counts['X'],single_cell_data[clust]],axis=1)\n",
    "            \n",
    "for i,tx in enumerate(full_df_counts.keys()):\n",
    "    tmp_df=copy.deepcopy(full_df_counts[tx])\n",
    "    tmp_df[-1] = tmp_df.sum(axis=1)\n",
    "    tmp_df=tmp_df.drop([x for x in tmp_df.columns if x != -1],axis=1)\n",
    "    tmp_df=tmp_df.rename(index=str, columns={-1: tx})\n",
    "    if i == 0:\n",
    "        merged_counts_df = copy.deepcopy(tmp_df)\n",
    "    else:\n",
    "        merged_counts_df = pd.concat([merged_counts_df,tmp_df],axis=1)\n",
    "\n",
    "merged_counts_df = merged_counts_df.fillna(0)\n",
    "sc_dat = copy.deepcopy(merged_counts_df)\n",
    "sc_dat.loc[-1]  = sc_dat.sum()/10000.\n",
    "sc_dat = sc_dat.div(sc_dat.loc[-1],axis=1)\n",
    "sc_dat = sc_dat.drop([-1])\n",
    "merged_counts_df_rpm_logged = np.log(sc_dat+1.)/np.log(2)\n",
    "\n",
    "for i,tx in enumerate(full_df_rpm_logged.keys()):\n",
    "    tmp_df=copy.deepcopy(full_df_rpm_logged[tx])\n",
    "    tmp_df[-1] = tmp_df.mean(axis=1)\n",
    "    tmp_df=tmp_df.drop([x for x in tmp_df.columns if x != -1],axis=1)\n",
    "    tmp_df=tmp_df.rename(index=str, columns={-1: tx})\n",
    "    if i == 0:\n",
    "        avg_logged_rpm_df = copy.deepcopy(tmp_df)\n",
    "    else:\n",
    "        avg_logged_rpm_df = pd.concat([avg_logged_rpm_df,tmp_df],axis=1)\n",
    "avg_logged_rpm_df = avg_logged_rpm_df.fillna(0)\n",
    "\n",
    "full_df_counts['X'].columns = ['x.'+col for col in full_df_counts['X'].columns]\n",
    "full_df_counts['NT'].columns = ['nt.'+col for col in full_df_counts['NT'].columns]\n",
    "full_df_counts['SBN'].columns = ['sbn.'+col for col in full_df_counts['SBN'].columns]\n",
    "full_df_counts['SBNx'].columns = ['sbnx.'+col for col in full_df_counts['SBNx'].columns]"
   ]
  },
  {
   "cell_type": "code",
   "execution_count": 9,
   "metadata": {},
   "outputs": [],
   "source": [
    "df = pd.read_csv('/mnt/e/MPIMG/Elkabetz/notebooks/Seurat_runs/merged_sbnx_sbn_nt_all_runs/dims6_res0.6/metadata.sbnx_sbn_nt.csv',sep=',')\n",
    "df_sbnx_sbn_clust = copy.deepcopy(df)\n",
    "\n",
    "df = pd.read_csv('/mnt/e/MPIMG/Elkabetz/notebooks/Seurat_runs/merged_sbnx_sbn_nt_all_runs/dims6_res0.6/tsne.sbnx_sbn_nt.csv',sep=',')\n",
    "df.columns=['cell','tSNE_1','tSNE_2']\n",
    "df_sbnx_sbn_tsne = copy.deepcopy(df)\n",
    "\n",
    "df = pd.read_csv('/mnt/e/MPIMG/Elkabetz/notebooks/Seurat_runs/merged_sbnx_sbn_nt_all_runs/dims6_res0.6/pca.sbnx_sbn_nt.csv',sep=',')\n",
    "cols = list(df.columns)\n",
    "cols[0] = 'cell'\n",
    "df.columns = cols\n",
    "df_sbnx_sbn_pca = copy.deepcopy(df)\n",
    "\n",
    "df = pd.read_csv('/mnt/e/MPIMG/Elkabetz/notebooks/Seurat_runs/merged_sbnx_sbn_nt_all_runs/dims6_res0.6/markers.sbnx_sbn_nt.csv',sep=',')\n",
    "df_markers = copy.deepcopy(df)\n",
    "\n",
    "df = pd.read_csv('/mnt/e/MPIMG/Elkabetz/notebooks/Seurat_runs/merged_sbnx_sbn_nt_all_runs/dims6_res0.6/markers.all.sbnx_sbn_nt.csv',sep=',')\n",
    "df_markers_all = copy.deepcopy(df)"
   ]
  },
  {
   "cell_type": "code",
   "execution_count": 10,
   "metadata": {},
   "outputs": [
    {
     "name": "stdout",
     "output_type": "stream",
     "text": [
      "0 1351\n"
     ]
    },
    {
     "name": "stderr",
     "output_type": "stream",
     "text": [
      "/home/rose/.local/lib/python3.6/site-packages/ipykernel_launcher.py:13: FutureWarning: Sorting because non-concatenation axis is not aligned. A future version\n",
      "of pandas will change to not sort by default.\n",
      "\n",
      "To accept the future behavior, pass 'sort=False'.\n",
      "\n",
      "To retain the current behavior and silence the warning, pass 'sort=True'.\n",
      "\n",
      "  del sys.path[0]\n"
     ]
    },
    {
     "name": "stdout",
     "output_type": "stream",
     "text": [
      "1 1221\n",
      "2 1052\n",
      "3 1028\n",
      "4 959\n",
      "5 951\n",
      "6 610\n",
      "7 540\n",
      "8 407\n",
      "9 366\n",
      "10 285\n",
      "11 208\n"
     ]
    }
   ],
   "source": [
    "all_genes = set([])\n",
    "clust_df_counts = {}\n",
    "for clust in set(df_sbnx_sbn_clust['res.0.6']):\n",
    "    cells_in_clust = list(df_sbnx_sbn_clust['Unnamed: 0'][df_sbnx_sbn_clust['res.0.6'] == clust])\n",
    "    print(clust,len(cells_in_clust))\n",
    "    for j,tx in enumerate(['SBNx','SBN','NT']):\n",
    "        cells_in_clust_in_tx = [x for x in cells_in_clust if x.split(\".\")[0] == tx.lower()]\n",
    "        if clust not in clust_df_counts:\n",
    "            if len(cells_in_clust_in_tx) > 0:\n",
    "                clust_df_counts[clust] = copy.deepcopy(full_df_counts[tx][cells_in_clust_in_tx])\n",
    "        else:\n",
    "            if len(cells_in_clust_in_tx) > 0:\n",
    "                clust_df_counts[clust] = pd.concat([clust_df_counts[clust],full_df_counts[tx][cells_in_clust_in_tx]],axis=1)\n",
    "\n",
    "for clust in clust_df_counts:\n",
    "    clust_df_counts[clust] = clust_df_counts[clust].fillna(0)\n",
    "    all_genes = set(all_genes.union(set(clust_df_counts[clust].index)))\n",
    "\n",
    "clust_df_log_rpm = {}\n",
    "for clust in clust_df_counts:\n",
    "    clust_df_log_rpm[clust] = copy.deepcopy(clust_df_counts[clust])\n",
    "    tot_sum = clust_df_log_rpm[clust].sum()/10000.\n",
    "    clust_df_log_rpm[clust] = clust_df_log_rpm[clust].div(tot_sum)\n",
    "    clust_df_log_rpm[clust] = np.log(clust_df_log_rpm[clust]+1)/np.log(2)"
   ]
  },
  {
   "cell_type": "code",
   "execution_count": 11,
   "metadata": {},
   "outputs": [],
   "source": [
    "summed_counts_per_clust = {}\n",
    "for clust in clust_df_counts:\n",
    "    summed_counts_per_clust[clust] = clust_df_counts[clust].sum(axis=1)\n",
    "    tot_sum = summed_counts_per_clust[clust].sum()/10000.\n",
    "    summed_counts_per_clust[clust] = summed_counts_per_clust[clust].div(tot_sum)\n",
    "    summed_counts_per_clust[clust] = np.log(summed_counts_per_clust[clust]+1.)/np.log(2)"
   ]
  },
  {
   "cell_type": "code",
   "execution_count": 12,
   "metadata": {},
   "outputs": [
    {
     "name": "stdout",
     "output_type": "stream",
     "text": [
      "648\n"
     ]
    }
   ],
   "source": [
    "marker_genes = list(set(df_markers_all[df_markers_all['cluster'].isin([1,5,3,0])]['Unnamed: 0']))\n",
    "shared_marker_genes = [x for x in marker_genes if x in fetal_df.columns and x in all_genes]\n",
    "print(len(shared_marker_genes))"
   ]
  },
  {
   "cell_type": "code",
   "execution_count": 13,
   "metadata": {},
   "outputs": [],
   "source": [
    "fetal_df = fetal_df.transpose()"
   ]
  },
  {
   "cell_type": "code",
   "execution_count": 14,
   "metadata": {},
   "outputs": [
    {
     "name": "stdout",
     "output_type": "stream",
     "text": [
      "648\n",
      "647\n"
     ]
    }
   ],
   "source": [
    "fetal_df['mean'] = fetal_df[cells].mean(axis=1)\n",
    "fetal_df['std'] = fetal_df[cells].std(axis=1)\n",
    "fetal_df_zscores = fetal_df[cells].sub(fetal_df['mean'],axis=0).div(fetal_df['std'],axis=0)\n",
    "print(len(shared_marker_genes))\n",
    "shared_marker_genes = list(set(shared_marker_genes) - \\\n",
    "    set(fetal_df_zscores[cell].loc[shared_marker_genes][np.isnan(fetal_df_zscores[cells[0]].loc[shared_marker_genes])].index))\n",
    "print(len(shared_marker_genes))"
   ]
  },
  {
   "cell_type": "code",
   "execution_count": 15,
   "metadata": {},
   "outputs": [],
   "source": [
    "for j,clust in enumerate([1,7,5,3,0]):\n",
    "    if j == 0:\n",
    "        summed_zscores_per_clust = copy.deepcopy(pd.DataFrame(summed_counts_per_clust[clust]))\n",
    "    else:\n",
    "        summed_zscores_per_clust = pd.concat([summed_zscores_per_clust,pd.DataFrame(summed_counts_per_clust[clust])],axis=1)\n",
    "summed_zscores_per_clust.columns = [1,7,5,3,0]\n",
    "summed_zscores_per_clust\n",
    "summed_zscores_per_clust['mean'] = summed_zscores_per_clust[[1,7,5,3,0]].mean(axis=1)\n",
    "summed_zscores_per_clust['std'] = summed_zscores_per_clust[[1,7,5,3,0]].std(axis=1)\n",
    "summed_zscores_per_clust[[1,7,5,3,0]] = summed_zscores_per_clust[[1,7,5,3,0]].sub(summed_zscores_per_clust['mean'],axis=0).div(summed_zscores_per_clust['std'],axis=0)"
   ]
  },
  {
   "cell_type": "code",
   "execution_count": 16,
   "metadata": {},
   "outputs": [],
   "source": [
    "colors=['red','blue','green','yellow','purple']\n",
    "cell_corr_dict = {}\n",
    "for cell in cells:\n",
    "    cell_corr_dict[cell] = {}\n",
    "    for j,clust in enumerate([1,7,5,3,0]):\n",
    "        x,y = summed_counts_per_clust[clust].loc[shared_marker_genes],fetal_df[cell].loc[shared_marker_genes]\n",
    "        cell_corr_dict[cell][clust] = np.corrcoef(x,y)[0][1]"
   ]
  },
  {
   "cell_type": "code",
   "execution_count": 17,
   "metadata": {},
   "outputs": [],
   "source": [
    "cell_types = {'Cycling Radial Glia':[],'Radial Glia':[],'Intermediate Progenitors':[],'Transitory State':[],'Neurons':[]}\n",
    "new_new_order = []\n",
    "for item in sorted(cell_corr_dict.items()):\n",
    "    if item[1][5]/max([item[1][y] for y in [1,7,3,0]]) > 1:\n",
    "        cell_types['Transitory State'].append(item[0])\n",
    "    elif item[1][0]/max([item[1][y] for y in [1,7,5,3]]) > 1:\n",
    "        cell_types['Neurons'].append(item[0])\n",
    "    elif item[1][3]/max([item[1][y] for y in [1,7,5,0]]) > 1:\n",
    "        new_new_order.append(item[0])\n",
    "        cell_types['Intermediate Progenitors'].append(item[0])\n",
    "    elif item[1][7]/max([item[1][y] for y in [1,3,5,0]]) > 1:\n",
    "        new_new_order.append(item[0])\n",
    "        cell_types['Cycling Radial Glia'].append(item[0])\n",
    "    else:\n",
    "        cell_types['Radial Glia'].append(item[0])"
   ]
  },
  {
   "cell_type": "code",
   "execution_count": 18,
   "metadata": {},
   "outputs": [
    {
     "data": {
      "text/plain": [
       "(array([  0.,  20.,  40.,  60.,  80., 100., 120., 140.]),\n",
       " <a list of 8 Text yticklabel objects>)"
      ]
     },
     "execution_count": 18,
     "metadata": {},
     "output_type": "execute_result"
    },
    {
     "data": {
      "image/png": "[encoded data removed]",
      "text/plain": [
       "<Figure size 720x432 with 1 Axes>"
      ]
     },
     "metadata": {
      "needs_background": "light"
     },
     "output_type": "display_data"
    }
   ],
   "source": [
    "clust_out_map={1:1,7:2,5:5,3:3,0:4}\n",
    "cort_clusts = [(1,'Radial Glia'),(7,'Cycling Radial Glia'),(3,'Intermediate Progenitors'),(5,'Transitory State'),(0,'Neurons')]\n",
    "plt.figure(figsize=(10,6))\n",
    "colors = ['blue','green','yellow','purple','red']\n",
    "for j,type_ in enumerate(['Radial Glia','Cycling Radial Glia','Intermediate Progenitors','Transitory State','Neurons']):\n",
    "    plt.bar(j,len(cell_types[type_]),color=colors[j],edgecolor='black',linewidth=1,width=0.6)\n",
    "plt.title('Cluster Assignment of in-vivo cells \\nbased on correlation',fontsize=20)\n",
    "plt.xticks([0,1,2,3,4],['C'+str(clust_out_map[x[0]])+'\\n'+x[1].replace(' ','\\n').replace('-','-\\n') \\\n",
    "                                           for x in cort_clusts],fontsize=14)\n",
    "plt.ylabel('Number of cells',fontsize=20)\n",
    "plt.yticks(fontsize=14)"
   ]
  },
  {
   "cell_type": "code",
   "execution_count": 19,
   "metadata": {},
   "outputs": [],
   "source": [
    "clust_map = {}\n",
    "with open('/mnt/e/MPIMG/Elkabetz/data/public_data/GSE75140_hOrg.cluster_id.txt','r') as clust_fn:\n",
    "    for i,row in enumerate(clust_fn):\n",
    "        if i == 0: continue\n",
    "        spl = row.strip(\"\\n\").split(\"\\t\")\n",
    "        cell_name = spl[0].replace('_gw12a','_fetal_12wpc_c1')\n",
    "        cell_name = cell_name.replace('_gw12b','_fetal_12wpc_c2')\n",
    "        cell_name = cell_name.replace('_gw13','_fetal_13wpc')\n",
    "        clust_map[cell_name] = spl[1]\n",
    "color_map = {'AP1':(32,138,34),'AP2':(144,238,144),'BP1':(0,204,202),'BP2':(141,250,247),'N1':(148,199,242),\n",
    "             'N2':(71,136,228),'N3':(3,62,193)}\n",
    "color_map_fixed = {}\n",
    "for clust in color_map:\n",
    "    color_map_fixed[clust] = tuple([x/255. for x in color_map[clust]])"
   ]
  },
  {
   "cell_type": "code",
   "execution_count": 20,
   "metadata": {},
   "outputs": [],
   "source": [
    "sorted_treutlein_clusts = ['AP2','AP1','BP1','BP2','N1','N2','N3']"
   ]
  },
  {
   "cell_type": "code",
   "execution_count": 21,
   "metadata": {},
   "outputs": [
    {
     "data": {
      "text/plain": [
       "[(1, 'Radial Glia'),\n",
       " (7, 'Cycling Radial Glia'),\n",
       " (3, 'Intermediate Progenitors'),\n",
       " (5, 'Transitory State'),\n",
       " (0, 'Neurons')]"
      ]
     },
     "execution_count": 21,
     "metadata": {},
     "output_type": "execute_result"
    }
   ],
   "source": [
    "cort_clusts"
   ]
  },
  {
   "cell_type": "code",
   "execution_count": 24,
   "metadata": {},
   "outputs": [
    {
     "name": "stdout",
     "output_type": "stream",
     "text": [
      "AP2 {'Cycling Radial Glia': 5, 'Radial Glia': 19, 'Intermediate Progenitors': 0, 'Transitory State': 0, 'Neurons': 0}\n",
      "19\n",
      "AP1 {'Cycling Radial Glia': 11, 'Radial Glia': 5, 'Intermediate Progenitors': 0, 'Transitory State': 0, 'Neurons': 0}\n",
      "11\n",
      "BP1 {'Cycling Radial Glia': 9, 'Radial Glia': 0, 'Intermediate Progenitors': 1, 'Transitory State': 1, 'Neurons': 0}\n",
      "9\n",
      "BP2 {'Cycling Radial Glia': 4, 'Radial Glia': 0, 'Intermediate Progenitors': 4, 'Transitory State': 0, 'Neurons': 0}\n",
      "4\n",
      "N1 {'Cycling Radial Glia': 0, 'Radial Glia': 0, 'Intermediate Progenitors': 11, 'Transitory State': 23, 'Neurons': 8}\n",
      "23\n",
      "N2 {'Cycling Radial Glia': 0, 'Radial Glia': 0, 'Intermediate Progenitors': 0, 'Transitory State': 8, 'Neurons': 54}\n",
      "54\n",
      "N3 {'Cycling Radial Glia': 0, 'Radial Glia': 0, 'Intermediate Progenitors': 0, 'Transitory State': 1, 'Neurons': 56}\n",
      "56\n"
     ]
    },
    {
     "data": {
      "image/png": "[encoded data removed]",
      "text/plain": [
       "<Figure size 720x1080 with 7 Axes>"
      ]
     },
     "metadata": {
      "needs_background": "light"
     },
     "output_type": "display_data"
    }
   ],
   "source": [
    "clusts_org = ['Radial Glia','Cycling Radial Glia','Intermediate Progenitors','Transitory State','Neurons']\n",
    "plt.figure(figsize=(10,15))\n",
    "colors = sns.color_palette('tab10', n_colors=len(clusts_org))  # a list of RGB tuples\n",
    "\n",
    "cort_clusts_out = [(1,'NSC'),(7,'Cycling NSC'),(3,'IP'),(5,'Transitory State'),(0,'Neurons')]\n",
    "\n",
    "for j,clust in enumerate(sorted_treutlein_clusts):\n",
    "    plt.subplot('71'+str(int(j+1)))\n",
    "    if j == 0:\n",
    "        plt.title('Assignment of Fetal Neocortical Cells \\nFrom Organoid Cluster Correlation',fontsize=20)\n",
    "    assign_dict = {}\n",
    "    for type_ in cell_types: assign_dict[type_] = 0\n",
    "    for cell in clust_map:\n",
    "        if clust_map[cell] == clust:\n",
    "            for type_ in cell_types:\n",
    "                if cell in cell_types[type_]:\n",
    "                    assign_dict[type_] += 1\n",
    "    print(clust,assign_dict)\n",
    "    plt.bar(range(len(clusts_org)),[assign_dict[x] for x in clusts_org],color=colors,edgecolor='black',linewidth=1)\n",
    "    if j == 6:\n",
    "        plt.xticks([0,1,2,3,4],['C'+str(clust_out_map[x[0]])+'\\n'+x[1].replace(' ','\\n').replace('-','-\\n') \\\n",
    "                                           for x in cort_clusts_out],fontsize=24)\n",
    "    else:\n",
    "        plt.xticks([])\n",
    "    plt.ylabel(clust+'\\nNo. cells',fontsize=24)\n",
    "    if max(assign_dict.values()) > 50:\n",
    "        plt.yticks([0,25,50],[0,25,50],fontsize=18)\n",
    "    elif max(assign_dict.values()) > 20:\n",
    "        plt.yticks([0,10,20],[0,10,20],fontsize=18)\n",
    "    elif max(assign_dict.values()) > 15:\n",
    "        plt.yticks([0,5,10,15],[0,5,10,15],fontsize=18)\n",
    "    elif max(assign_dict.values()) > 10:\n",
    "        plt.yticks([0,5,10],[0,5,10],fontsize=18)\n",
    "    elif max(assign_dict.values()) > 8:\n",
    "        plt.yticks([0,4,8],[0,4,8],fontsize=18)\n",
    "    else:\n",
    "        plt.yticks([0,2,4],[0,2,4],fontsize=18)\n",
    "    print(max(assign_dict.values()))\n",
    "\n",
    "plt.tight_layout()\n",
    "plt.savefig('/mnt/e/MPIMG/Elkabetz/Mutukula_etal_Paper/Figures/OSVZ_figure/v2/treutlein_cells_corr_1b.pdf')\n",
    "plt.show()"
   ]
  },
  {
   "cell_type": "code",
   "execution_count": null,
   "metadata": {},
   "outputs": [],
   "source": []
  }
 ],
 "metadata": {
  "kernelspec": {
   "display_name": "Python 3",
   "language": "python",
   "name": "python3"
  },
  "language_info": {
   "codemirror_mode": {
    "name": "ipython",
    "version": 3
   },
   "file_extension": ".py",
   "mimetype": "text/x-python",
   "name": "python",
   "nbconvert_exporter": "python",
   "pygments_lexer": "ipython3",
   "version": "3.6.7"
  }
 },
 "nbformat": 4,
 "nbformat_minor": 2
}
